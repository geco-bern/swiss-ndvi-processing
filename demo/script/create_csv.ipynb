{
 "cells": [
  {
   "cell_type": "code",
   "execution_count": 1,
   "id": "02e847b2",
   "metadata": {},
   "outputs": [],
   "source": [
    "from IPython.display import IFrame, Image, display\n",
    "import numpy as np\n",
    "import math\n",
    "import zarr\n",
    "import matplotlib.pyplot as plt\n",
    "import imageio.v2 as imageio\n",
    "import xarray as xr\n",
    "import torch\n",
    "import torch.nn as nn\n",
    "import pandas as pd\n",
    "from scipy.signal import savgol_filter\n",
    "import gc\n",
    "import imageio\n",
    "from io import BytesIO\n",
    "from rasterio import features\n",
    "from affine import Affine\n",
    "from functions import *\n"
   ]
  },
  {
   "cell_type": "code",
   "execution_count": null,
   "id": "6c8ae871",
   "metadata": {},
   "outputs": [
    {
     "name": "stderr",
     "output_type": "stream",
     "text": [
      "/home/francesco/miniconda3/envs/ndvi/lib/python3.11/site-packages/zarr/codecs/vlen_utf8.py:44: UserWarning: The codec `vlen-utf8` is currently not part in the Zarr format 3 specification. It may not be supported by other zarr implementations and may change in the future.\n",
      "  return cls(**configuration_parsed)\n"
     ]
    }
   ],
   "source": [
    "\n",
    "\n",
    "zarr_path = \"../pixel_biomes.zarr/ndvi\"\n",
    "\n",
    "z = zarr.open(zarr_path, mode=\"r\")\n",
    "\n",
    "ds = xr.open_zarr(\"../../sample_seasonal_cycle_parameter_preds.zarr\")\n",
    "dates = ds[\"dates\"]\n",
    "dates_pd = pd.to_datetime(dates)\n",
    "\n",
    "\n"
   ]
  },
  {
   "cell_type": "code",
   "execution_count": 11,
   "id": "2dbdb6ed",
   "metadata": {},
   "outputs": [],
   "source": [
    "all_dfs = []\n",
    "\n",
    "for i in np.arange(0,199):\n",
    "\n",
    "    ndvi_series = z[i, :]\n",
    "\n",
    "    ndvi_series = ndvi_series.astype(float) / 10000.0\n",
    "\n",
    "\n",
    "    ndvi_series = np.where((ndvi_series > 1) | (ndvi_series < 0), np.nan, ndvi_series)\n",
    "\n",
    "    \n",
    "\n",
    "    df = pd.DataFrame({\n",
    "        \"pixel_id\": i,\n",
    "        'date': dates_pd,\n",
    "        'ndvi': ndvi_series\n",
    "        })\n",
    "\n",
    "    df_sorted = df.sort_values(by='date')\n",
    "\n",
    "    all_dfs.append(df_sorted)\n",
    "\n",
    "    # update csv\n",
    "\n",
    "final_df = pd.concat(all_dfs, ignore_index=True)\n",
    "\n",
    "final_df.to_csv(\"ndvi_pixels.csv\", index=False)\n"
   ]
  }
 ],
 "metadata": {
  "kernelspec": {
   "display_name": "ndvi",
   "language": "python",
   "name": "python3"
  },
  "language_info": {
   "codemirror_mode": {
    "name": "ipython",
    "version": 3
   },
   "file_extension": ".py",
   "mimetype": "text/x-python",
   "name": "python",
   "nbconvert_exporter": "python",
   "pygments_lexer": "ipython3",
   "version": "3.11.13"
  }
 },
 "nbformat": 4,
 "nbformat_minor": 5
}
