{
 "cells": [
  {
   "cell_type": "code",
   "execution_count": 29,
   "id": "52f95165",
   "metadata": {},
   "outputs": [],
   "source": [
    "# library loading\n",
    "import numpy as np\n",
    "import math\n",
    "import zarr\n",
    "import matplotlib.pyplot as plt\n",
    "import imageio.v2 as imageio\n",
    "import xarray as xr\n",
    "import torch\n",
    "import torch.nn as nn\n",
    "import pandas as pd\n",
    "from scipy.signal import savgol_filter\n",
    "import gc\n",
    "from functions import *"
   ]
  },
  {
   "cell_type": "code",
   "execution_count": 5,
   "id": "eec7d142",
   "metadata": {},
   "outputs": [],
   "source": [
    "# path and mask creation\n",
    "zarr_path = \"/data_2/scratch/sbiegel/processed/ndvi_dataset.zarr/ndvi\"\n",
    "mask_path = \"/data_2/scratch/sbiegel/processed/forest_mask.npy\"\n",
    "\n",
    "z = zarr.open(zarr_path, mode=\"r\")\n",
    "\n",
    "# Raster info\n",
    "height, width = 24542, 37728\n",
    "left, bottom = 2474090.0, 1065110.0\n",
    "px = 10.0\n",
    "top = bottom + height * px"
   ]
  },
  {
   "cell_type": "code",
   "execution_count": 6,
   "id": "78a90042",
   "metadata": {},
   "outputs": [],
   "source": [
    "# Rectangle corners (UL and BR)\n",
    "\n",
    "UL_x, UL_y = 2694027.49, 1123239.84\n",
    "BR_x, BR_y = 2693027.49, 1122239.84"
   ]
  },
  {
   "cell_type": "code",
   "execution_count": 7,
   "id": "50e7a78b",
   "metadata": {},
   "outputs": [
    {
     "name": "stdout",
     "output_type": "stream",
     "text": [
      "Window cols 21893..21993 (101), rows 18729..18829 (101)\n",
      "Mask has 105715396 True pixels.\n",
      "Pixels in window: 10201, masked pixels: 9238\n"
     ]
    }
   ],
   "source": [
    "# crop area selected\n",
    "# ----- compute pixel window (row 0 = top) -----\n",
    "x_min, x_max = min(UL_x, BR_x), max(UL_x, BR_x)\n",
    "y_min, y_max = min(UL_y, BR_y), max(UL_y, BR_y)\n",
    "\n",
    "col_min = int(math.floor((x_min - left) / px))\n",
    "col_max = int(math.floor((x_max - left) / px))\n",
    "\n",
    "row_min = int(math.floor((top - y_max) / px))\n",
    "row_max = int(math.floor((top - y_min) / px))\n",
    "\n",
    "# clip to bounds\n",
    "col_min = max(0, min(width - 1, col_min))\n",
    "col_max = max(0, min(width - 1, col_max))\n",
    "row_min = max(0, min(height - 1, row_min))\n",
    "row_max = max(0, min(height - 1, row_max))\n",
    "\n",
    "win_cols = col_max - col_min + 1\n",
    "win_rows = row_max - row_min + 1\n",
    "print(f\"Window cols {col_min}..{col_max} ({win_cols}), rows {row_min}..{row_max} ({win_rows})\")\n",
    "\n",
    "# ----- load mask -----\n",
    "mask = np.load(mask_path)\n",
    "assert mask.shape == (height, width), f\"Mask shape {mask.shape} != raster {(height, width)}\"\n",
    "\n",
    "mask_flat = mask.ravel(order=\"C\")\n",
    "masked_positions = np.flatnonzero(mask_flat)\n",
    "n_masked = masked_positions.size\n",
    "print(f\"Mask has {n_masked} True pixels.\")\n",
    "\n",
    "# build index map from full array -> masked array\n",
    "idx_map = np.full(mask_flat.shape[0], -1, dtype=np.int64)\n",
    "idx_map[masked_positions] = np.arange(n_masked, dtype=np.int64)\n",
    "\n",
    "# ----- compute flat indices in window -----\n",
    "rows = np.arange(row_min, row_max + 1, dtype=np.int64)\n",
    "cols = np.arange(col_min, col_max + 1, dtype=np.int64)\n",
    "rr, cc = np.meshgrid(rows, cols, indexing=\"ij\")\n",
    "full_flat_idx = (rr * width + cc).ravel()\n",
    "\n",
    "masked_idx_in_window = idx_map[full_flat_idx]\n",
    "is_masked = masked_idx_in_window >= 0\n",
    "n_masked_in_window = is_masked.sum()\n",
    "print(f\"Pixels in window: {full_flat_idx.size}, masked pixels: {n_masked_in_window}\")\n",
    "\n",
    "if n_masked_in_window == 0:\n",
    "    raise RuntimeError(\"No masked pixels in window!\")\n",
    "\n",
    "sel = masked_idx_in_window[is_masked].tolist()\n",
    "# ----- open Zarr -----\n",
    "N, T = z.shape\n",
    "assert N == n_masked, f\"Zarr first-dim {N} != mask True count {n_masked}\"\n",
    "\n",
    "# ----- plotting extent -----\n",
    "extent = (\n",
    "    left + col_min * px,\n",
    "    left + (col_max + 1) * px,\n",
    "    top - (row_max + 1) * px,\n",
    "    top - row_min * px,\n",
    ")"
   ]
  },
  {
   "cell_type": "code",
   "execution_count": 21,
   "id": "268f533a",
   "metadata": {},
   "outputs": [
    {
     "name": "stderr",
     "output_type": "stream",
     "text": [
      "/home/francesco/miniconda3/envs/ndvi/lib/python3.11/site-packages/zarr/codecs/vlen_utf8.py:44: UserWarning: The codec `vlen-utf8` is currently not part in the Zarr format 3 specification. It may not be supported by other zarr implementations and may change in the future.\n",
      "  return cls(**configuration_parsed)\n"
     ]
    }
   ],
   "source": [
    "# data loading and initialization for gapfilling\n",
    "ds = xr.open_zarr(\"/data_2/scratch/sbiegel/processed/sample_seasonal_cycle_parameter_preds_updated.zarr\")\n",
    "ndvi = ds[\"ndvi\"]\n",
    "dates = ds[\"dates\"]\n",
    "params_lower = torch.tensor(ds[\"params_lower\"].values)\n",
    "params_upper = torch.tensor(ds[\"params_upper\"].values)\n",
    "\n",
    "# convert dates to doy\n",
    "dates_pd = pd.to_datetime(dates)\n",
    "df = pd.DataFrame({\"date\": dates_pd})\n",
    "df_sorted = df.sort_values(by=\"date\")\n",
    "dates_sorted = df_sorted[\"date\"].values\n",
    "dates_pd_sorted = pd.to_datetime(dates_sorted)\n",
    "doy = dates_pd_sorted.dayofyear.values\n",
    "doy = torch.tensor(doy, dtype=torch.float32)\n",
    "T_SCALE = 1.0 / 365.0\n",
    "t = doy.unsqueeze(0).repeat(params_lower.shape[0], 1) * T_SCALE\n",
    "def double_logistic_function(t, params):\n",
    "    sos, mat_minus_sos, sen, eos_minus_sen, M, m = torch.split(params, 1, dim=1)\n",
    "    mat_minus_sos = torch.nn.functional.softplus(mat_minus_sos)\n",
    "    eos_minus_sen = torch.nn.functional.softplus(eos_minus_sen)\n",
    "    sigmoid_sos_mat = torch.nn.functional.sigmoid(\n",
    "        -2 * (2 * sos + mat_minus_sos - 2 * t) / (mat_minus_sos + 1e-10)\n",
    "    )\n",
    "    sigmoid_sen_eos = torch.nn.functional.sigmoid(\n",
    "        -2 * (2 * sen + eos_minus_sen - 2 * t) / (eos_minus_sen + 1e-10)\n",
    "    )\n",
    "    return (M - m) * (sigmoid_sos_mat - sigmoid_sen_eos) + m\n",
    "\n",
    "lower = double_logistic_function(t[[0]], params_lower[[32]]).squeeze().cpu().numpy()\n",
    "upper = double_logistic_function(t[[0]], params_upper[[32]]).squeeze().cpu().numpy()\n",
    "\n",
    "median_iqr = upper - (upper - lower) / 2\n",
    "\n",
    "param_iqr = 1.5\n",
    "bottom_iqr = 0.9\n",
    "upper_iqr = 0.1\n",
    "window_length = 14\n",
    "polyorder = 2\n"
   ]
  },
  {
   "cell_type": "code",
   "execution_count": 28,
   "id": "5e1706c6",
   "metadata": {},
   "outputs": [
    {
     "ename": "TypeError",
     "evalue": "plot_results() got an unexpected keyword argument 'title'",
     "output_type": "error",
     "traceback": [
      "\u001b[31m---------------------------------------------------------------------------\u001b[39m",
      "\u001b[31mTypeError\u001b[39m                                 Traceback (most recent call last)",
      "\u001b[36mCell\u001b[39m\u001b[36m \u001b[39m\u001b[32mIn[28]\u001b[39m\u001b[32m, line 10\u001b[39m\n\u001b[32m      5\u001b[39m ndvi_gapfilled, outlier_arr = gapfill_ndvi(ndvi_series, lower, upper)\n\u001b[32m      7\u001b[39m smoothed_data = savgol_filter(ndvi_gapfilled, window_length=window_length, polyorder=polyorder) \n\u001b[32m---> \u001b[39m\u001b[32m10\u001b[39m plot_results(\n\u001b[32m     11\u001b[39m         title= \u001b[33m\"\u001b[39m\u001b[33mhistorical L1 gapfilled timeseries\u001b[39m\u001b[33m\"\u001b[39m,\n\u001b[32m     12\u001b[39m         pixel_idx=random_pixels,\n\u001b[32m     13\u001b[39m         ndvi_series=ndvi_series / \u001b[32m10000.0\u001b[39m,\n\u001b[32m     14\u001b[39m         ndvi_gapfilled=ndvi_gapfilled,\n\u001b[32m     15\u001b[39m         outlier_arr=outlier_arr,\n\u001b[32m     16\u001b[39m         lower=lower,\n\u001b[32m     17\u001b[39m         upper=upper,\n\u001b[32m     18\u001b[39m         dates=dates_sorted\n\u001b[32m     19\u001b[39m     )\n",
      "\u001b[31mTypeError\u001b[39m: plot_results() got an unexpected keyword argument 'title'"
     ]
    }
   ],
   "source": [
    "random_pixels = int(np.median(sel))  # pick one pixel index to check\n",
    "\n",
    "ndvi_series = z[random_pixels, :]\n",
    "\n",
    "ndvi_gapfilled, outlier_arr = gapfill_ndvi(ndvi_series, lower, upper)\n",
    "\n",
    "smoothed_data = savgol_filter(ndvi_gapfilled, window_length=window_length, polyorder=polyorder) \n",
    "\n",
    "\n",
    "plot_results(\n",
    "        title= \"historical L1 gapfilled timeseries\",\n",
    "        pixel_idx=random_pixels,\n",
    "        ndvi_series=ndvi_series / 10000.0,\n",
    "        ndvi_gapfilled=ndvi_gapfilled,\n",
    "        outlier_arr=outlier_arr,\n",
    "        lower=lower,\n",
    "        upper=upper,\n",
    "        dates=dates_sorted\n",
    "    )"
   ]
  }
 ],
 "metadata": {
  "kernelspec": {
   "display_name": "ndvi",
   "language": "python",
   "name": "python3"
  },
  "language_info": {
   "codemirror_mode": {
    "name": "ipython",
    "version": 3
   },
   "file_extension": ".py",
   "mimetype": "text/x-python",
   "name": "python",
   "nbconvert_exporter": "python",
   "pygments_lexer": "ipython3",
   "version": "3.11.13"
  }
 },
 "nbformat": 4,
 "nbformat_minor": 5
}
